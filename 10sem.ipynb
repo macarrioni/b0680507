{
 "cells": [
  {
   "cell_type": "markdown",
   "metadata": {},
   "source": [
    "## Упражнение 2\n"
   ]
  },
  {
   "cell_type": "code",
   "execution_count": 2,
   "metadata": {},
   "outputs": [
    {
     "name": "stdout",
     "output_type": "stream",
     "text": [
      "3\n",
      "2\n",
      "4\n",
      "34\n",
      "45\n",
      "46\n",
      "48\n"
     ]
    }
   ],
   "source": [
    "class Node:\n",
    "    def __init__(self,data):\n",
    "        self.left = None\n",
    "        self.right = None\n",
    "        self.data = data\n",
    "\n",
    "class BinaryTree:\n",
    "\n",
    "    def __init__(self):\n",
    "        self.root = None\n",
    "\n",
    "\n",
    "    def insert_node(self,root,element):\n",
    "        if self.root is None:\n",
    "            self.root = Node(element)\n",
    "        else:\n",
    "\n",
    "            if root is None:\n",
    "                root = Node(element)\n",
    "            elif root.data <= element:\n",
    "                root.right = self.insert_node(root.right,element)\n",
    "            elif root.data > element:\n",
    "                root.left = self.insert_node(root.left,element)\n",
    "\n",
    "\n",
    "        return root\n",
    "\n",
    "    def PreOrder(self,root):\n",
    "        if root is not None:\n",
    "            print(root.data)\n",
    "            if root.left is not None:\n",
    "                self.PreOrder(root.left)\n",
    "            if root.right is not None:\n",
    "                self.PreOrder(root.right)\n",
    "\n"
   ]
  },
  {
   "cell_type": "code",
   "execution_count": null,
   "metadata": {},
   "outputs": [],
   "source": []
  }
 ],
 "metadata": {
  "kernelspec": {
   "display_name": "Python 3",
   "language": "python",
   "name": "python3"
  },
  "language_info": {
   "codemirror_mode": {
    "name": "ipython",
    "version": 3
   },
   "file_extension": ".py",
   "mimetype": "text/x-python",
   "name": "python",
   "nbconvert_exporter": "python",
   "pygments_lexer": "ipython3",
   "version": "3.7.4"
  }
 },
 "nbformat": 4,
 "nbformat_minor": 2
}
