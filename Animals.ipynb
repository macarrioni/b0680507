{
 "cells": [
  {
   "cell_type": "code",
   "execution_count": 1,
   "metadata": {},
   "outputs": [
    {
     "name": "stdout",
     "output_type": "stream",
     "text": [
      "Name:  Alisa \n",
      " Age:  4 \n",
      " Species:  Red\n"
     ]
    }
   ],
   "source": [
    "class Animal():\n",
    "    __age = ''\n",
    "    __name = ''\n",
    "    __species = ''\n",
    "    \n",
    "    def __init__(self, age, name, species):\n",
    "        self.__age = age\n",
    "        self.__name = name\n",
    "        self.__species = species\n",
    "    \n",
    "    def name(self):\n",
    "        return self.__name\n",
    "    \n",
    "    def age(self):\n",
    "        return self.__age\n",
    "    \n",
    "    def species(self):\n",
    "        return self.__species\n",
    "    \n",
    "    def __str__(self):\n",
    "        return self.get_str()\n",
    "    \n",
    "    \n",
    "    \n",
    "class Zebra(Animal):\n",
    "    def get_str(self):\n",
    "        return \" \".join([\"Name: \", self.name(), '\\n',\n",
    "                        \"Age: \", self.age(), '\\n',\n",
    "                         \"Species: \", self.species()\n",
    "        ])\n",
    "    \n",
    "class Dolphin(Animal):\n",
    "    def get_str(self):\n",
    "        return \" \".join([\"Name: \", self.name(), '\\n',\n",
    "                    \"Age: \", self.age(), '\\n',\n",
    "                    \"Species: \", self.species()])\n",
    "\n",
    "anim = Zebra('4', 'Alisa', 'Red')\n",
    "print(anim)"
   ]
  },
  {
   "cell_type": "code",
   "execution_count": null,
   "metadata": {},
   "outputs": [],
   "source": []
  }
 ],
 "metadata": {
  "kernelspec": {
   "display_name": "Python 3",
   "language": "python",
   "name": "python3"
  },
  "language_info": {
   "codemirror_mode": {
    "name": "ipython",
    "version": 3
   },
   "file_extension": ".py",
   "mimetype": "text/x-python",
   "name": "python",
   "nbconvert_exporter": "python",
   "pygments_lexer": "ipython3",
   "version": "3.7.4"
  }
 },
 "nbformat": 4,
 "nbformat_minor": 2
}
