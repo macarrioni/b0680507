{
 "cells": [
  {
   "cell_type": "code",
   "execution_count": 1,
   "metadata": {},
   "outputs": [
    {
     "name": "stdout",
     "output_type": "stream",
     "text": [
      "Mother: Maria \n",
      " Surname: Sigdel\n"
     ]
    }
   ],
   "source": [
    "class Mother():\n",
    "    __name = ''\n",
    "    __surname = ''\n",
    "    \n",
    "    def __init__(self, name, surname):\n",
    "        self.__name = name\n",
    "        self.__surname = surname\n",
    "        \n",
    "    def mother(self):\n",
    "        return self.__name\n",
    "        \n",
    "    def surname(self):\n",
    "        return self.__surname \n",
    "        \n",
    "    def __str__(self):\n",
    "        return self.get_str()\n",
    "        \n",
    "        \n",
    "class Daughter(Mother):\n",
    "    def get_str(self):\n",
    "        return \" \".join([\"Mother:\", self.mother(), \"\\n\",\n",
    "                         \"Surname:\", self.surname()\n",
    "                        ])\n",
    "    \n",
    "mom = Daughter('Maria', 'Sigdel')\n",
    "print(mom)"
   ]
  },
  {
   "cell_type": "code",
   "execution_count": null,
   "metadata": {},
   "outputs": [],
   "source": []
  }
 ],
 "metadata": {
  "kernelspec": {
   "display_name": "Python 3",
   "language": "python",
   "name": "python3"
  },
  "language_info": {
   "codemirror_mode": {
    "name": "ipython",
    "version": 3
   },
   "file_extension": ".py",
   "mimetype": "text/x-python",
   "name": "python",
   "nbconvert_exporter": "python",
   "pygments_lexer": "ipython3",
   "version": "3.7.4"
  }
 },
 "nbformat": 4,
 "nbformat_minor": 2
}
