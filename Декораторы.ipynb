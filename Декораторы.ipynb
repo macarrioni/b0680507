{
 "cells": [
  {
   "cell_type": "markdown",
   "metadata": {},
   "source": [
    "\n",
    "Напишите декоратор, который принимает в качестве аргумента путь к файлу. Если данный декоратор добавить к функции, то в указанный файл будет логироваться информация вида:\n",
    "\n",
    "        Время вызова функции\n",
    "        Входящие аргументы\n",
    "        Ответ return (если есть, если нет то логгировать '-')\n",
    "        Время завершения работы функции\n",
    "        Время работы функции\n",
    "\n"
   ]
  },
  {
   "cell_type": "code",
   "execution_count": 25,
   "metadata": {},
   "outputs": [],
   "source": [
    "import datetime\n",
    "import inspect\n",
    "\n",
    "path = '/Users/Анастасия/python5/decorator.txt'\n",
    "def decorator(way):\n",
    "    def tsfunc(func):\n",
    "        def wrappedFunc(*args, **kwargs):\n",
    "            now = datetime.datetime.now()\n",
    "            result = func(*args, **kwargs)\n",
    "            if result is None:\n",
    "                result = '-'\n",
    "            end = datetime.datetime.now()\n",
    "            args = inspect.getfullargspec(func)\n",
    "            with open(way, 'w') as file:\n",
    "                file.write('Время вызова функции: {} \\nОтвет ret: {}\\nАргументы: {} \\nВремя завершения работы функции: {} \\nВРемя работы функции: {}'.format(now, result, args[0], end, now - end))\n",
    "        return wrappedFunc  \n",
    "    return tsfunc\n",
    "\n",
    "@decorator(path)\n",
    "def foo(a, b):\n",
    "    return a, b, a+b \n",
    "foo(5, 90)"
   ]
  }
 ],
 "metadata": {
  "kernelspec": {
   "display_name": "Python 3",
   "language": "python",
   "name": "python3"
  },
  "language_info": {
   "codemirror_mode": {
    "name": "ipython",
    "version": 3
   },
   "file_extension": ".py",
   "mimetype": "text/x-python",
   "name": "python",
   "nbconvert_exporter": "python",
   "pygments_lexer": "ipython3",
   "version": "3.7.4"
  }
 },
 "nbformat": 4,
 "nbformat_minor": 2
}
