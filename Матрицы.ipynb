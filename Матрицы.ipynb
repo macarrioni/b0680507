{
 "cells": [
  {
   "cell_type": "code",
   "execution_count": 92,
   "metadata": {},
   "outputs": [],
   "source": [
    "import numpy as np"
   ]
  },
  {
   "cell_type": "code",
   "execution_count": 93,
   "metadata": {},
   "outputs": [],
   "source": [
    "def decor_func(func):\n",
    "    def a_wrapper(args):\n",
    "        print('Произошел вызов метода {}'.format(func.__name__))\n",
    "        return func(args)\n",
    "    return a_wrapper\n",
    "    \n",
    "    \n",
    "class MatrixError(BaseException):\n",
    "    def __init__(self, Matrix, other):\n",
    "        self.matrix1 = Matrix\n",
    "        self.matrix2 = other\n",
    "\n",
    "class Matrix():\n",
    "    def __init__(self,list_of_lists):\n",
    "        self.matrix = list_of_lists\n",
    "    \n",
    "    def __str__(self):\n",
    "        return '\\n'.join('\\t'.join(map(str, row)) for row in self.matrix)\n",
    "    \n",
    "    @decor_func\n",
    "    def size(self):\n",
    "        sizepair = (len(self.matrix), len(self.matrix[0]))\n",
    "        return sizepair\n",
    "    \n",
    "    def __getitem__(self, idx):\n",
    "        if idx < len(self.matrix):\n",
    "            return self.matrix[idx]\n",
    "        else:\n",
    "            raise IndexError(\"Index out of range\")\n",
    "   \n",
    "    def __add__(self, other):\n",
    "        if len(self.matrix) == len(other.matrix):\n",
    "            lenght = len(self.matrix[0])\n",
    "            for row in self.matrix:\n",
    "                if len(row) != lenght:\n",
    "                    raise MatrixError(self, other)\n",
    "            for row2 in other.matrix:\n",
    "                if len(row2) != lenght:\n",
    "                    raise MatrixError(self, other)\n",
    "            other = Matrix(other)\n",
    "            result = []\n",
    "            numbers = [] \n",
    "            for i in range(len(self.matrix)):\n",
    "                for j in range(len(self.matrix[0])):\n",
    "                    summa = other[i][j] + self.matrix[i][j]\n",
    "                    numbers.append(summa)\n",
    "                    if len(numbers) == len(self.matrix):\n",
    "                        result.append(numbers)\n",
    "                        numbers = []\n",
    "            return Matrix(result)\n",
    "        else:\n",
    "            raise MatrixError(self, other)\n",
    "\n",
    "    def __sub__(self, other):\n",
    "        if len(self.matrix) == len(other.matrix):\n",
    "            lenght = len(self.matrix[0])\n",
    "            for row in self.matrix:\n",
    "                if len(row) != lenght:\n",
    "                    raise MatrixError(self, other)\n",
    "            for row2 in other.matrix:\n",
    "                if len(row2) != lenght:\n",
    "                    raise MatrixError(self, other)\n",
    "            other = Matrix(other)\n",
    "            result = []\n",
    "            numbers = []\n",
    "            for i in range(len(self.matrix)):\n",
    "                for j in range(len(self.matrix[0])):\n",
    "                    summa = other[i][j] - self.matrix[i][j]\n",
    "                    numbers.append(summa)\n",
    "                    if len(numbers) == len(self.matrix):\n",
    "                        result.append(numbers)\n",
    "                        numbers = []\n",
    "            return Matrix(result)\n",
    "        else:\n",
    "            raise MatrixError(self, other)\n",
    "    @decor_func\n",
    "    def str_max(self, index):\n",
    "        m2 = self.matrix\n",
    "        result = m2[index][0]\n",
    "        for i in range(len(m2[index])):\n",
    "            if m2[index][i] > result:\n",
    "                    result = m2[index][i]\n",
    "        return result\n",
    "    @decor_func\n",
    "    def stolb_max(self, index):\n",
    "        m2 = self.matrix\n",
    "        result = m2[0][index]\n",
    "        for i in range(len(m2)):\n",
    "            if m2[i][index] > result:\n",
    "                    result = m2[i][index]\n",
    "        return result \n",
    "    \n",
    "    def max(self):\n",
    "        m2 = self.matrix\n",
    "        result = m2[0][0]\n",
    "        for i in range(len(m2)):\n",
    "            for j in range (len(m2[i])):\n",
    "                if m2[i][j] > result:\n",
    "                    result = m2[i][j]\n",
    "        return result\n",
    "    \n",
    "    def __mul__(self, other):\n",
    "        m1 = self.matrix\n",
    "        m2 = other.matrix\n",
    "        result = []\n",
    "        for i in range(len(m1)):\n",
    "            result.append([0]*len(m2))\n",
    "        if len(m1[0]) == len(m2):\n",
    "            for i in range(len(m1)):\n",
    "                for j in range(len(m2[i])):\n",
    "                    for k in range(len(m1[0])):\n",
    "                        result[i][j] += m1[i][k]*m2[k][j]\n",
    "            return Matrix(result)\n",
    "        else:\n",
    "            raise MatrixError(self, other)\n",
    "  \n",
    "    def transpose(self):\n",
    "        transMatrix = list(zip(*self.matrix))\n",
    "        return Matrix(transMatrix)    \n",
    "        \n",
    "    def inv(self):\n",
    "        m = self.matrix\n",
    "        result = np.linalg.inv(m)\n",
    "        return Matrix(result)    \n",
    "    \n",
    "    def __truediv__(self, other):\n",
    "        result = self.matrix * (other.inv().matrix)\n",
    "        return Matrix(result)\n",
    "    \n",
    "    def __iter__(self):\n",
    "        m = self.matrix\n",
    "        for j in range(len(m[0])):\n",
    "            for i in range(len(m)):\n",
    "                yield m[j][i]\n",
    "    \n",
    "    @staticmethod\n",
    "    def zerom(m,n):\n",
    "        arr = []\n",
    "        for i in range(m):\n",
    "            arr.append([0]*n)\n",
    "        return Matrix(arr)\n",
    "    \n",
    "    @staticmethod\n",
    "    def eye(n):\n",
    "        mass = []\n",
    "        for i in range(n):\n",
    "            l = []\n",
    "            for j in range(i):\n",
    "                l.append(0)\n",
    "            l.append(1)\n",
    "            for k in range(n-i-1):\n",
    "                l.append(0)\n",
    "            mass.append(l)    \n",
    "        return Matrix(mass)"
   ]
  },
  {
   "cell_type": "code",
   "execution_count": 94,
   "metadata": {},
   "outputs": [
    {
     "name": "stdout",
     "output_type": "stream",
     "text": [
      "1 2 3 4 5 6 7 8 9 "
     ]
    }
   ],
   "source": [
    "for elem in m1:\n",
    "    print(elem, end = ' ')"
   ]
  },
  {
   "cell_type": "code",
   "execution_count": 53,
   "metadata": {},
   "outputs": [
    {
     "name": "stdout",
     "output_type": "stream",
     "text": [
      "9\t6\t7\n",
      "1\t2\t3\n",
      "6\t5\t4\n",
      "\n",
      "Произошел вызов метода size\n",
      "(3, 3)\n",
      "\n"
     ]
    },
    {
     "ename": "TypeError",
     "evalue": "object of type 'Matrix' has no len()",
     "output_type": "error",
     "traceback": [
      "\u001b[1;31m---------------------------------------------------------------------------\u001b[0m",
      "\u001b[1;31mTypeError\u001b[0m                                 Traceback (most recent call last)",
      "\u001b[1;32m<ipython-input-53-bcdcc8193284>\u001b[0m in \u001b[0;36m<module>\u001b[1;34m\u001b[0m\n\u001b[0;32m      3\u001b[0m \u001b[0mprint\u001b[0m\u001b[1;33m(\u001b[0m\u001b[0mm2\u001b[0m\u001b[1;33m.\u001b[0m\u001b[0msize\u001b[0m\u001b[1;33m(\u001b[0m\u001b[1;33m)\u001b[0m\u001b[1;33m)\u001b[0m\u001b[1;33m\u001b[0m\u001b[1;33m\u001b[0m\u001b[0m\n\u001b[0;32m      4\u001b[0m \u001b[0mprint\u001b[0m\u001b[1;33m(\u001b[0m\u001b[1;33m)\u001b[0m\u001b[1;33m\u001b[0m\u001b[1;33m\u001b[0m\u001b[0m\n\u001b[1;32m----> 5\u001b[1;33m \u001b[0mprint\u001b[0m\u001b[1;33m(\u001b[0m\u001b[0mm1\u001b[0m \u001b[1;33m+\u001b[0m \u001b[0mm2\u001b[0m\u001b[1;33m)\u001b[0m\u001b[1;33m\u001b[0m\u001b[1;33m\u001b[0m\u001b[0m\n\u001b[0m\u001b[0;32m      6\u001b[0m \u001b[0mprint\u001b[0m\u001b[1;33m(\u001b[0m\u001b[1;33m)\u001b[0m\u001b[1;33m\u001b[0m\u001b[1;33m\u001b[0m\u001b[0m\n\u001b[0;32m      7\u001b[0m \u001b[0mprint\u001b[0m\u001b[1;33m(\u001b[0m\u001b[0mm1\u001b[0m \u001b[1;33m-\u001b[0m \u001b[0mm2\u001b[0m\u001b[1;33m)\u001b[0m\u001b[1;33m\u001b[0m\u001b[1;33m\u001b[0m\u001b[0m\n",
      "\u001b[1;32m<ipython-input-51-4b6edba830e4>\u001b[0m in \u001b[0;36m__add__\u001b[1;34m(self, other)\u001b[0m\n\u001b[0;32m     43\u001b[0m             \u001b[1;32mfor\u001b[0m \u001b[0mi\u001b[0m \u001b[1;32min\u001b[0m \u001b[0mrange\u001b[0m\u001b[1;33m(\u001b[0m\u001b[0mlen\u001b[0m\u001b[1;33m(\u001b[0m\u001b[0mself\u001b[0m\u001b[1;33m.\u001b[0m\u001b[0mmatrix\u001b[0m\u001b[1;33m)\u001b[0m\u001b[1;33m)\u001b[0m\u001b[1;33m:\u001b[0m\u001b[1;33m\u001b[0m\u001b[1;33m\u001b[0m\u001b[0m\n\u001b[0;32m     44\u001b[0m                 \u001b[1;32mfor\u001b[0m \u001b[0mj\u001b[0m \u001b[1;32min\u001b[0m \u001b[0mrange\u001b[0m\u001b[1;33m(\u001b[0m\u001b[0mlen\u001b[0m\u001b[1;33m(\u001b[0m\u001b[0mself\u001b[0m\u001b[1;33m.\u001b[0m\u001b[0mmatrix\u001b[0m\u001b[1;33m[\u001b[0m\u001b[1;36m0\u001b[0m\u001b[1;33m]\u001b[0m\u001b[1;33m)\u001b[0m\u001b[1;33m)\u001b[0m\u001b[1;33m:\u001b[0m\u001b[1;33m\u001b[0m\u001b[1;33m\u001b[0m\u001b[0m\n\u001b[1;32m---> 45\u001b[1;33m                     \u001b[0msumma\u001b[0m \u001b[1;33m=\u001b[0m \u001b[0mother\u001b[0m\u001b[1;33m[\u001b[0m\u001b[0mi\u001b[0m\u001b[1;33m]\u001b[0m\u001b[1;33m[\u001b[0m\u001b[0mj\u001b[0m\u001b[1;33m]\u001b[0m \u001b[1;33m+\u001b[0m \u001b[0mself\u001b[0m\u001b[1;33m.\u001b[0m\u001b[0mmatrix\u001b[0m\u001b[1;33m[\u001b[0m\u001b[0mi\u001b[0m\u001b[1;33m]\u001b[0m\u001b[1;33m[\u001b[0m\u001b[0mj\u001b[0m\u001b[1;33m]\u001b[0m\u001b[1;33m\u001b[0m\u001b[1;33m\u001b[0m\u001b[0m\n\u001b[0m\u001b[0;32m     46\u001b[0m                     \u001b[0mnumbers\u001b[0m\u001b[1;33m.\u001b[0m\u001b[0mappend\u001b[0m\u001b[1;33m(\u001b[0m\u001b[0msumma\u001b[0m\u001b[1;33m)\u001b[0m\u001b[1;33m\u001b[0m\u001b[1;33m\u001b[0m\u001b[0m\n\u001b[0;32m     47\u001b[0m                     \u001b[1;32mif\u001b[0m \u001b[0mlen\u001b[0m\u001b[1;33m(\u001b[0m\u001b[0mnumbers\u001b[0m\u001b[1;33m)\u001b[0m \u001b[1;33m==\u001b[0m \u001b[0mlen\u001b[0m\u001b[1;33m(\u001b[0m\u001b[0mself\u001b[0m\u001b[1;33m.\u001b[0m\u001b[0mmatrix\u001b[0m\u001b[1;33m)\u001b[0m\u001b[1;33m:\u001b[0m\u001b[1;33m\u001b[0m\u001b[1;33m\u001b[0m\u001b[0m\n",
      "\u001b[1;32m<ipython-input-51-4b6edba830e4>\u001b[0m in \u001b[0;36m__getitem__\u001b[1;34m(self, idx)\u001b[0m\n\u001b[0;32m     24\u001b[0m \u001b[1;33m\u001b[0m\u001b[0m\n\u001b[0;32m     25\u001b[0m     \u001b[1;32mdef\u001b[0m \u001b[0m__getitem__\u001b[0m\u001b[1;33m(\u001b[0m\u001b[0mself\u001b[0m\u001b[1;33m,\u001b[0m \u001b[0midx\u001b[0m\u001b[1;33m)\u001b[0m\u001b[1;33m:\u001b[0m\u001b[1;33m\u001b[0m\u001b[1;33m\u001b[0m\u001b[0m\n\u001b[1;32m---> 26\u001b[1;33m         \u001b[1;32mif\u001b[0m \u001b[0midx\u001b[0m \u001b[1;33m<\u001b[0m \u001b[0mlen\u001b[0m\u001b[1;33m(\u001b[0m\u001b[0mself\u001b[0m\u001b[1;33m.\u001b[0m\u001b[0mmatrix\u001b[0m\u001b[1;33m)\u001b[0m\u001b[1;33m:\u001b[0m\u001b[1;33m\u001b[0m\u001b[1;33m\u001b[0m\u001b[0m\n\u001b[0m\u001b[0;32m     27\u001b[0m             \u001b[1;32mreturn\u001b[0m \u001b[0mself\u001b[0m\u001b[1;33m.\u001b[0m\u001b[0mmatrix\u001b[0m\u001b[1;33m[\u001b[0m\u001b[0midx\u001b[0m\u001b[1;33m]\u001b[0m\u001b[1;33m\u001b[0m\u001b[1;33m\u001b[0m\u001b[0m\n\u001b[0;32m     28\u001b[0m         \u001b[1;32melse\u001b[0m\u001b[1;33m:\u001b[0m\u001b[1;33m\u001b[0m\u001b[1;33m\u001b[0m\u001b[0m\n",
      "\u001b[1;31mTypeError\u001b[0m: object of type 'Matrix' has no len()"
     ]
    }
   ],
   "source": [
    "print(m2)\n",
    "print()\n",
    "print(m2.size())\n",
    "print()\n",
    "print(m1 + m2)\n",
    "print()\n",
    "print(m1 - m2)\n",
    "m1+= m2\n",
    "print()\n",
    "print(m1)\n",
    "print()\n",
    "print(m1[1][1])"
   ]
  },
  {
   "cell_type": "code",
   "execution_count": 54,
   "metadata": {},
   "outputs": [
    {
     "name": "stdout",
     "output_type": "stream",
     "text": [
      "29\t25\t25\n",
      "77\t64\t67\n",
      "125\t103\t109\n"
     ]
    },
    {
     "ename": "MatrixError",
     "evalue": "(<__main__.Matrix object at 0x000001F931480888>, <__main__.Matrix object at 0x000001F931480BC8>)",
     "output_type": "error",
     "traceback": [
      "\u001b[1;31m---------------------------------------------------------------------------\u001b[0m",
      "\u001b[1;31mMatrixError\u001b[0m                               Traceback (most recent call last)",
      "\u001b[1;32m<ipython-input-54-0e913a5aa3f1>\u001b[0m in \u001b[0;36m<module>\u001b[1;34m\u001b[0m\n\u001b[0;32m      1\u001b[0m \u001b[0mprint\u001b[0m\u001b[1;33m(\u001b[0m\u001b[0mm1\u001b[0m\u001b[1;33m*\u001b[0m\u001b[0mm2\u001b[0m\u001b[1;33m)\u001b[0m\u001b[1;33m\u001b[0m\u001b[1;33m\u001b[0m\u001b[0m\n\u001b[1;32m----> 2\u001b[1;33m \u001b[0mprint\u001b[0m\u001b[1;33m(\u001b[0m\u001b[0mm2\u001b[0m\u001b[1;33m*\u001b[0m\u001b[0mm3\u001b[0m\u001b[1;33m)\u001b[0m\u001b[1;33m\u001b[0m\u001b[1;33m\u001b[0m\u001b[0m\n\u001b[0m\u001b[0;32m      3\u001b[0m \u001b[0mm1\u001b[0m\u001b[1;33m*=\u001b[0m\u001b[0mm2\u001b[0m\u001b[1;33m\u001b[0m\u001b[1;33m\u001b[0m\u001b[0m\n\u001b[0;32m      4\u001b[0m \u001b[0mprint\u001b[0m\u001b[1;33m(\u001b[0m\u001b[1;33m)\u001b[0m\u001b[1;33m\u001b[0m\u001b[1;33m\u001b[0m\u001b[0m\n\u001b[0;32m      5\u001b[0m \u001b[0mprint\u001b[0m\u001b[1;33m(\u001b[0m\u001b[0mm1\u001b[0m\u001b[1;33m)\u001b[0m\u001b[1;33m\u001b[0m\u001b[1;33m\u001b[0m\u001b[0m\n",
      "\u001b[1;32m<ipython-input-51-4b6edba830e4>\u001b[0m in \u001b[0;36m__mul__\u001b[1;34m(self, other)\u001b[0m\n\u001b[0;32m    113\u001b[0m             \u001b[1;32mreturn\u001b[0m \u001b[0mMatrix\u001b[0m\u001b[1;33m(\u001b[0m\u001b[0mresult\u001b[0m\u001b[1;33m)\u001b[0m\u001b[1;33m\u001b[0m\u001b[1;33m\u001b[0m\u001b[0m\n\u001b[0;32m    114\u001b[0m         \u001b[1;32melse\u001b[0m\u001b[1;33m:\u001b[0m\u001b[1;33m\u001b[0m\u001b[1;33m\u001b[0m\u001b[0m\n\u001b[1;32m--> 115\u001b[1;33m             \u001b[1;32mraise\u001b[0m \u001b[0mMatrixError\u001b[0m\u001b[1;33m(\u001b[0m\u001b[0mself\u001b[0m\u001b[1;33m,\u001b[0m \u001b[0mother\u001b[0m\u001b[1;33m)\u001b[0m\u001b[1;33m\u001b[0m\u001b[1;33m\u001b[0m\u001b[0m\n\u001b[0m\u001b[0;32m    116\u001b[0m \u001b[1;33m\u001b[0m\u001b[0m\n\u001b[0;32m    117\u001b[0m     \u001b[1;32mdef\u001b[0m \u001b[0mtranspose\u001b[0m\u001b[1;33m(\u001b[0m\u001b[0mself\u001b[0m\u001b[1;33m)\u001b[0m\u001b[1;33m:\u001b[0m\u001b[1;33m\u001b[0m\u001b[1;33m\u001b[0m\u001b[0m\n",
      "\u001b[1;31mMatrixError\u001b[0m: (<__main__.Matrix object at 0x000001F931480888>, <__main__.Matrix object at 0x000001F931480BC8>)"
     ]
    }
   ],
   "source": [
    "print(m1*m2)\n",
    "print(m2*m3)\n",
    "m1*=m2\n",
    "print()\n",
    "print(m1)\n",
    "print()\n",
    "print(m1.inv())\n",
    "print()\n",
    "print(m1/m2)"
   ]
  },
  {
   "cell_type": "code",
   "execution_count": 67,
   "metadata": {},
   "outputs": [
    {
     "name": "stdout",
     "output_type": "stream",
     "text": [
      "1\t2\t3\n",
      "4\t5\t6\n",
      "7\t8\t9\n",
      "\n",
      "8\n",
      "6\n",
      "9\n"
     ]
    }
   ],
   "source": [
    "print(m1)\n",
    "print()\n",
    "print(m1.stolb_max(1))\n",
    "\n",
    "print(m1.str_max(1))\n",
    "print(m1.max())"
   ]
  },
  {
   "cell_type": "code",
   "execution_count": 56,
   "metadata": {},
   "outputs": [
    {
     "name": "stdout",
     "output_type": "stream",
     "text": [
      "0\t0\n",
      "0\t0\n",
      "0\t0\n"
     ]
    }
   ],
   "source": [
    "print(Matrix.zerom(2,3))"
   ]
  },
  {
   "cell_type": "code",
   "execution_count": 85,
   "metadata": {},
   "outputs": [],
   "source": [
    "arr = Matrix.eye(3)"
   ]
  },
  {
   "cell_type": "code",
   "execution_count": 86,
   "metadata": {},
   "outputs": [
    {
     "name": "stdout",
     "output_type": "stream",
     "text": [
      "1\t0\t0\n",
      "0\t1\t0\n",
      "0\t0\t1\n"
     ]
    }
   ],
   "source": [
    "print(arr)"
   ]
  }
 ],
 "metadata": {
  "kernelspec": {
   "display_name": "Python 3",
   "language": "python",
   "name": "python3"
  },
  "language_info": {
   "codemirror_mode": {
    "name": "ipython",
    "version": 3
   },
   "file_extension": ".py",
   "mimetype": "text/x-python",
   "name": "python",
   "nbconvert_exporter": "python",
   "pygments_lexer": "ipython3",
   "version": "3.7.4"
  }
 },
 "nbformat": 4,
 "nbformat_minor": 2
}
