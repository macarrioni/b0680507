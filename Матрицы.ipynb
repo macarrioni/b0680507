{
 "cells": [
  {
   "cell_type": "code",
   "execution_count": 1,
   "metadata": {},
   "outputs": [],
   "source": [
    "import numpy as np"
   ]
  },
  {
   "cell_type": "code",
   "execution_count": 17,
   "metadata": {},
   "outputs": [],
   "source": [
    "def decor_func(func):\n",
    "    def a_wrapper(*args):\n",
    "        print('Произошел вызов метода {}'.format(func.__name__))\n",
    "        return func(*args)\n",
    "    return a_wrapper\n",
    "    \n",
    "    \n",
    "class MatrixError(BaseException):\n",
    "    def __init__(self, Matrix, other):\n",
    "        self.matrix1 = Matrix\n",
    "        self.matrix2 = other\n",
    "\n",
    "class Matrix():\n",
    "    def __init__(self,list_of_lists):\n",
    "        self.matrix = list_of_lists\n",
    "    \n",
    "    def __str__(self):\n",
    "        return '\\n'.join('\\t'.join(map(str, row)) for row in self.matrix)\n",
    "    \n",
    "    @decor_func\n",
    "    def size(self):\n",
    "        sizepair = (len(self.matrix), len(self.matrix[0]))\n",
    "        return sizepair\n",
    "    \n",
    "    def __getitem__(self, idx):\n",
    "        return self.matrix[idx]\n",
    "    \n",
    "    def __add__(self, other):\n",
    "        if len(self.matrix) == len(other.matrix):\n",
    "            lenght = len(self.matrix[0])\n",
    "            for row in self.matrix:\n",
    "                if len(row) != lenght:\n",
    "                    raise MatrixError(self, other)\n",
    "            for row2 in other.matrix:\n",
    "                if len(row2) != lenght:\n",
    "                    raise MatrixError(self, other)\n",
    "            other = Matrix(other)\n",
    "            result = []\n",
    "            numbers = [] \n",
    "            for i in range(len(self.matrix)):\n",
    "                for j in range(len(self.matrix[0])):\n",
    "                    summa = other[i][j] + self.matrix[i][j]\n",
    "                    numbers.append(summa)\n",
    "                    if len(numbers) == len(self.matrix):\n",
    "                        result.append(numbers)\n",
    "                        numbers = []\n",
    "            return Matrix(result)\n",
    "        else:\n",
    "            raise MatrixError(self, other)\n",
    "\n",
    "    def __sub__(self, other):\n",
    "        if len(self.matrix) == len(other.matrix):\n",
    "            lenght = len(self.matrix[0])\n",
    "            for row in self.matrix:\n",
    "                if len(row) != lenght:\n",
    "                    raise MatrixError(self, other)\n",
    "            for row2 in other.matrix:\n",
    "                if len(row2) != lenght:\n",
    "                    raise MatrixError(self, other)\n",
    "            other = Matrix(other)\n",
    "            result = []\n",
    "            numbers = []\n",
    "            for i in range(len(self.matrix)):\n",
    "                for j in range(len(self.matrix[0])):\n",
    "                    summa = other[i][j] - self.matrix[i][j]\n",
    "                    numbers.append(summa)\n",
    "                    if len(numbers) == len(self.matrix):\n",
    "                        result.append(numbers)\n",
    "                        numbers = []\n",
    "            return Matrix(result)\n",
    "        else:\n",
    "            raise MatrixError(self, other)\n",
    "    @decor_func\n",
    "    def str_max(self, index):\n",
    "        m2 = self.matrix\n",
    "        result = m2[index][0]\n",
    "        for i in range(len(m2[index])):\n",
    "            if m2[index][i] > result:\n",
    "                    result = m2[index][i]\n",
    "        return result\n",
    "    @decor_func\n",
    "    def stolb_max(self, index):\n",
    "        m2 = self.matrix\n",
    "        result = m2[0][index]\n",
    "        for i in range(len(m2)):\n",
    "            if m2[i][index] > result:\n",
    "                    result = m2[i][index]\n",
    "        return result \n",
    "    \n",
    "    def max(self):\n",
    "        m2 = self.matrix\n",
    "        result = m2[0][0]\n",
    "        for i in range(len(m2)):\n",
    "            for j in range (len(m2[i])):\n",
    "                if m2[i][j] > result:\n",
    "                    result = m2[i][j]\n",
    "        return result\n",
    "    \n",
    "    def __mul__(self, other):\n",
    "        m1 = np.array(self.matrix)\n",
    "        m2 = np.array(other.matrix)\n",
    "        result = []\n",
    "        for i in range(len(m1)):\n",
    "            result.append([0]*len(m2))\n",
    "        if len(m1[0]) == len(m2):\n",
    "            for i in range(len(m1)):\n",
    "                for j in range(len(m2[i])):\n",
    "                    for k in range(len(m1[0])):\n",
    "                        result[i][j] += m1[i][k]*m2[k][j]\n",
    "            return Matrix(result)\n",
    "        else:\n",
    "            raise MatrixError(self, other)\n",
    "  \n",
    "    def transpose(self):\n",
    "        transMatrix = list(zip(*self.matrix))\n",
    "        return Matrix(transMatrix)    \n",
    "        \n",
    "    def inv(self):\n",
    "        m = self.matrix\n",
    "        result = np.linalg.inv(m)\n",
    "        return Matrix(result)    \n",
    "    \n",
    "    def __truediv__(self, other):\n",
    "        result = self.matrix * (other.inv().matrix)\n",
    "        return Matrix(result)\n",
    "    \n",
    "    def __iter__(self):\n",
    "        m = self.matrix\n",
    "        for j in range(len(m[0])):\n",
    "            for i in range(len(m)):\n",
    "                yield m[j][i]\n",
    "    \n",
    "    @staticmethod\n",
    "    def zerom(m,n):\n",
    "        arr = []\n",
    "        for i in range(m):\n",
    "            arr.append([0]*n)\n",
    "        return Matrix(arr)\n",
    "    \n",
    "    @staticmethod\n",
    "    def eye(n):\n",
    "        mass = []\n",
    "        for i in range(n):\n",
    "            l = []\n",
    "            for j in range(i):\n",
    "                l.append(0)\n",
    "            l.append(1)\n",
    "            for k in range(n-i-1):\n",
    "                l.append(0)\n",
    "            mass.append(l)    \n",
    "        return Matrix(mass)"
   ]
  },
  {
   "cell_type": "code",
   "execution_count": 34,
   "metadata": {},
   "outputs": [
    {
     "name": "stdout",
     "output_type": "stream",
     "text": [
      "1 2 3 4 5 6 7 8 9 "
     ]
    }
   ],
   "source": [
    "a = [[1,2,3], [4,5,6], [7,8,9]]\n",
    "b = [[10,20,30], [40,50,60], [70, 80, 90]]\n",
    "m1 = Matrix(a)\n",
    "m2 = Matrix(b)\n",
    "for elem in m1:\n",
    "    print(elem, end = ' ')\n",
    "    "
   ]
  },
  {
   "cell_type": "code",
   "execution_count": 44,
   "metadata": {},
   "outputs": [
    {
     "name": "stdout",
     "output_type": "stream",
     "text": [
      "300\t360\t420\n",
      "660\t810\t960\n",
      "1020\t1260\t1500\n",
      "-17921627730640.973\t35843255461281.94\t-17921627730640.965\n",
      "35843255461282.11\t-71686510922563.92\t35843255461281.92\n",
      "-17921627730641.11\t35843255461281.98\t-17921627730640.957\n",
      "Maximum =  1500\n"
     ]
    }
   ],
   "source": [
    "c = m1*m2\n",
    "print(c)\n",
    "print(c.inv())\n",
    "print('Maximum = ', c.max())"
   ]
  },
  {
   "cell_type": "code",
   "execution_count": 45,
   "metadata": {},
   "outputs": [
    {
     "name": "stdout",
     "output_type": "stream",
     "text": [
      "10\t20\t30\n",
      "40\t50\t60\n",
      "70\t80\t90\n",
      "\n",
      "Произошел вызов метода size\n",
      "(3, 3)\n",
      "\n",
      "11\t22\t33\n",
      "44\t55\t66\n",
      "77\t88\t99\n",
      "\n",
      "9\t18\t27\n",
      "36\t45\t54\n",
      "63\t72\t81\n",
      "\n",
      "11\t22\t33\n",
      "44\t55\t66\n",
      "77\t88\t99\n",
      "\n",
      "55\n"
     ]
    }
   ],
   "source": [
    "print(m2)\n",
    "print()\n",
    "print(m2.size())\n",
    "print()\n",
    "print(m1 + m2)\n",
    "print()\n",
    "print(m1 - m2)\n",
    "m1+= m2\n",
    "print()\n",
    "print(m1)\n",
    "print()\n",
    "print(m1[1][1])"
   ]
  },
  {
   "cell_type": "code",
   "execution_count": 46,
   "metadata": {},
   "outputs": [
    {
     "name": "stdout",
     "output_type": "stream",
     "text": [
      "Произошел вызов метода size\n"
     ]
    },
    {
     "data": {
      "text/plain": [
       "(3, 3)"
      ]
     },
     "execution_count": 46,
     "metadata": {},
     "output_type": "execute_result"
    }
   ],
   "source": [
    "m1.size()"
   ]
  },
  {
   "cell_type": "code",
   "execution_count": 47,
   "metadata": {},
   "outputs": [
    {
     "name": "stdout",
     "output_type": "stream",
     "text": [
      "3300\t3960\t4620\n",
      "7260\t8910\t10560\n",
      "11220\t13860\t16500\n",
      "\n",
      "3300\t3960\t4620\n",
      "7260\t8910\t10560\n",
      "11220\t13860\t16500\n",
      "\n",
      "-1557134592932.358\t3114269185864.7173\t-1557134592932.3584\n",
      "3114269185864.731\t-6228538371729.438\t3114269185864.716\n",
      "-1557134592932.3706\t3114269185864.7207\t-1557134592932.3574\n",
      "\n",
      "6.502071962016156e+18\t-1.5604972708838767e+19\t9.102900746822613e+18\n",
      "-2.8609116632871092e+19\t7.0222377189774475e+19\t-4.161326055690339e+19\n",
      "2.2107044670854943e+19\t-5.4617404480935715e+19\t3.251035981008078e+19\n"
     ]
    }
   ],
   "source": [
    "print(m1*m2)\n",
    "\n",
    "m1*=m2\n",
    "print()\n",
    "print(m1)\n",
    "print()\n",
    "print(m1.inv())\n",
    "print()\n",
    "print(m1/m2)"
   ]
  },
  {
   "cell_type": "code",
   "execution_count": 48,
   "metadata": {},
   "outputs": [
    {
     "name": "stdout",
     "output_type": "stream",
     "text": [
      "3300\t3960\t4620\n",
      "7260\t8910\t10560\n",
      "11220\t13860\t16500\n",
      "\n",
      "Произошел вызов метода stolb_max\n",
      "13860\n",
      "Произошел вызов метода str_max\n",
      "10560\n",
      "16500\n"
     ]
    }
   ],
   "source": [
    "print(m1)\n",
    "print()\n",
    "print(m1.stolb_max(1))\n",
    "\n",
    "print(m1.str_max(1))\n",
    "print(m1.max())"
   ]
  },
  {
   "cell_type": "code",
   "execution_count": 49,
   "metadata": {},
   "outputs": [
    {
     "name": "stdout",
     "output_type": "stream",
     "text": [
      "0\t0\t0\n",
      "0\t0\t0\n"
     ]
    }
   ],
   "source": [
    "print(Matrix.zerom(2,3))"
   ]
  },
  {
   "cell_type": "code",
   "execution_count": 50,
   "metadata": {},
   "outputs": [],
   "source": [
    "arr = Matrix.eye(3)"
   ]
  },
  {
   "cell_type": "code",
   "execution_count": 51,
   "metadata": {},
   "outputs": [
    {
     "name": "stdout",
     "output_type": "stream",
     "text": [
      "1\t0\t0\n",
      "0\t1\t0\n",
      "0\t0\t1\n"
     ]
    }
   ],
   "source": [
    "print(arr)"
   ]
  }
 ],
 "metadata": {
  "kernelspec": {
   "display_name": "Python 3",
   "language": "python",
   "name": "python3"
  },
  "language_info": {
   "codemirror_mode": {
    "name": "ipython",
    "version": 3
   },
   "file_extension": ".py",
   "mimetype": "text/x-python",
   "name": "python",
   "nbconvert_exporter": "python",
   "pygments_lexer": "ipython3",
   "version": "3.7.4"
  }
 },
 "nbformat": 4,
 "nbformat_minor": 2
}
