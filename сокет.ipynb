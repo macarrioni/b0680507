{
 "cells": [
  {
   "cell_type": "code",
   "execution_count": 2,
   "metadata": {},
   "outputs": [],
   "source": [
    "import socket \n",
    "import threading"
   ]
  },
  {
   "cell_type": "code",
   "execution_count": 3,
   "metadata": {},
   "outputs": [],
   "source": [
    "sock = socket.socket()  "
   ]
  },
  {
   "cell_type": "code",
   "execution_count": null,
   "metadata": {},
   "outputs": [],
   "source": [
    "sock.connect(('81.200.31.248', 9000)) "
   ]
  },
  {
   "cell_type": "code",
   "execution_count": null,
   "metadata": {},
   "outputs": [],
   "source": [
    "def listener(sock):\n",
    "    global n \n",
    "    n = 0\n",
    "    while sock.fileno() != -1:\n",
    "        \n",
    "        data = sock.recv(1000)\n",
    "        if len(data) > 0:\n",
    "            n += 1\n",
    "            print(data.decode())\n",
    "    \n",
    "    \n",
    "def run_thread(list_url):\n",
    "    thread = threading.Thread(target=listener, args=(list_url,))\n",
    "    thread.start()\n",
    "    \n",
    "run_thread(sock)\n",
    "\n",
    "def answer(sock):\n",
    "    answer = str(input('Введите ответ '))\n",
    "    sock.send(answer.encode())\n",
    "    \n",
    "while n > 0:\n",
    "    answer(sock)\n",
    "    n -= 1"
   ]
  }
 ],
 "metadata": {
  "kernelspec": {
   "display_name": "Python 3",
   "language": "python",
   "name": "python3"
  },
  "language_info": {
   "codemirror_mode": {
    "name": "ipython",
    "version": 3
   },
   "file_extension": ".py",
   "mimetype": "text/x-python",
   "name": "python",
   "nbconvert_exporter": "python",
   "pygments_lexer": "ipython3",
   "version": "3.7.4"
  }
 },
 "nbformat": 4,
 "nbformat_minor": 2
}
