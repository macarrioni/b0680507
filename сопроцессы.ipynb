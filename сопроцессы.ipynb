{
 "cells": [
  {
   "cell_type": "markdown",
   "metadata": {},
   "source": [
    "От некоторого устройства в режиме реального времени приходят данные. Необходимо написать сопрограмму, которая вычисляет среднее, дисперсию, а также количество элементов в переданном наборе данных с устройства. Результаты работы сопрограмма должна выдавать при отправке соответствующих сигналов."
   ]
  },
  {
   "cell_type": "code",
   "execution_count": 21,
   "metadata": {},
   "outputs": [
    {
     "name": "stdout",
     "output_type": "stream",
     "text": [
      "4\n",
      "Average 4.0\n",
      "Количество переданных данных 1\n",
      "Дисперсия 0.0\n",
      "2\n",
      "Average 3.0\n",
      "Количество переданных данных 2\n",
      "Дисперсия 1.0\n",
      "6\n",
      "Average 4.0\n",
      "Количество переданных данных 3\n",
      "Дисперсия 2.6666666666666665\n",
      "8\n",
      "Average 5.0\n",
      "Количество переданных данных 4\n",
      "Дисперсия 5.0\n",
      "7\n",
      "Average 5.4\n",
      "Количество переданных данных 5\n",
      "Дисперсия 4.64\n",
      "6\n",
      "Average 5.5\n",
      "Количество переданных данных 6\n",
      "Дисперсия 3.9166666666666665\n",
      "5\n",
      "Average 5.428571428571429\n",
      "Количество переданных данных 7\n",
      "Дисперсия 3.387755102040817\n",
      "6\n",
      "Average 5.5\n",
      "Количество переданных данных 8\n",
      "Дисперсия 3.0\n",
      "7\n",
      "Average 5.666666666666667\n",
      "Количество переданных данных 9\n",
      "Дисперсия 2.888888888888889\n",
      "8\n",
      "Average 5.9\n",
      "Количество переданных данных 10\n",
      "Дисперсия 3.09\n",
      "3\n",
      "Average 5.636363636363637\n",
      "Количество переданных данных 11\n",
      "Дисперсия 3.504132231404959\n",
      "4\n",
      "Average 5.5\n",
      "Количество переданных данных 12\n",
      "Дисперсия 3.4166666666666665\n",
      "5\n",
      "Average 5.461538461538462\n",
      "Количество переданных данных 13\n",
      "Дисперсия 3.171597633136095\n",
      "\n"
     ]
    }
   ],
   "source": [
    "import numpy as np\n",
    "\n",
    "def print_coroutine(x):\n",
    "    aver = 0\n",
    "    n = 0\n",
    "    arr = []\n",
    "    while True:\n",
    "        x = yield x\n",
    "        n += 1\n",
    "        arr.append(x)\n",
    "        disp = np.var(arr)\n",
    "        aver = (aver*(n-1)+x)/(n)\n",
    "        #print(\"Got value\", x)\n",
    "        print('Average', aver)\n",
    "        print('Количество переданных данных', n)\n",
    "        print('Дисперсия', disp)\n",
    "\n",
    "data = input()\n",
    "coroutine = print_coroutine(data)\n",
    "next(coroutine)\n",
    "while data != '':\n",
    "    coroutine.send(int(data))\n",
    "    data = input()\n",
    "    \n",
    "    "
   ]
  }
 ],
 "metadata": {
  "kernelspec": {
   "display_name": "Python 3",
   "language": "python",
   "name": "python3"
  },
  "language_info": {
   "codemirror_mode": {
    "name": "ipython",
    "version": 3
   },
   "file_extension": ".py",
   "mimetype": "text/x-python",
   "name": "python",
   "nbconvert_exporter": "python",
   "pygments_lexer": "ipython3",
   "version": "3.7.4"
  }
 },
 "nbformat": 4,
 "nbformat_minor": 2
}
